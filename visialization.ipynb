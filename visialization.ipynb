{
  "nbformat": 4,
  "nbformat_minor": 0,
  "metadata": {
    "colab": {
      "provenance": [],
      "authorship_tag": "ABX9TyOdCIoeQytJCxT3t3SFakDD",
      "include_colab_link": true
    },
    "kernelspec": {
      "name": "python3",
      "display_name": "Python 3"
    },
    "language_info": {
      "name": "python"
    }
  },
  "cells": [
    {
      "cell_type": "markdown",
      "metadata": {
        "id": "view-in-github",
        "colab_type": "text"
      },
      "source": [
        "<a href=\"https://colab.research.google.com/github/ehdtjr/Data-Science/blob/main/visialization.ipynb\" target=\"_parent\"><img src=\"https://colab.research.google.com/assets/colab-badge.svg\" alt=\"Open In Colab\"/></a>"
      ]
    },
    {
      "cell_type": "code",
      "execution_count": null,
      "metadata": {
        "id": "9-JqiJL6R1hv"
      },
      "outputs": [],
      "source": [
        "!sudo apt-get install -y fonts-nanum\n",
        "!sudo fc-cache -fv\n",
        "!rm ~/.cache/matplotlib -rf"
      ]
    },
    {
      "cell_type": "code",
      "source": [
        "import matplotlib as mpl\n",
        "import matplotlib.pyplot as plt\n",
        "import numpy as np\n",
        "\n",
        "%matplotlib inline  "
      ],
      "metadata": {
        "id": "leT1LQJjR2b-"
      },
      "execution_count": 2,
      "outputs": []
    },
    {
      "cell_type": "code",
      "source": [
        "plt.rc('font', family='NanumBarunGothic')\n",
        "\n",
        "plt.rc('axes', unicode_minus = False)"
      ],
      "metadata": {
        "id": "pkAFaTHsR2eo"
      },
      "execution_count": 3,
      "outputs": []
    },
    {
      "cell_type": "code",
      "source": [
        "x = ['1월', '2월', '3월', '4월', '5월']\n",
        "y = [7, 10, 17, 20, 23]\n",
        "\n",
        "plt.plot(x,y)\n",
        "plt.show()"
      ],
      "metadata": {
        "id": "K17IcLboR2hG"
      },
      "execution_count": null,
      "outputs": []
    },
    {
      "cell_type": "code",
      "source": [
        "x = ['1월', '2월', '3월', '4월', '5월']\n",
        "y = [7, 10, 17, 20, 23]\n",
        "\n",
        "plt.plot(x,y, color=\"blue\", marker = 'o', linestyle = ':')\n",
        "plt.title('월별 평균 온도', fontsize=15)\n",
        "plt.ylabel('온도(도)')\n",
        "plt.grid(linestyle = ':')\n",
        "plt.show()"
      ],
      "metadata": {
        "id": "Fs96uox6R2j0"
      },
      "execution_count": null,
      "outputs": []
    },
    {
      "cell_type": "code",
      "source": [
        "aVal = np.random.standard_normal(40)\n",
        "aVal "
      ],
      "metadata": {
        "id": "oxGVTTqpR2my"
      },
      "execution_count": null,
      "outputs": []
    },
    {
      "cell_type": "code",
      "source": [
        "type(aVal)"
      ],
      "metadata": {
        "colab": {
          "base_uri": "https://localhost:8080/"
        },
        "id": "8wu4xCt5R2pP",
        "outputId": "b0bd4ab0-899a-45c8-f2b4-73fe5bb471cf"
      },
      "execution_count": 9,
      "outputs": [
        {
          "output_type": "execute_result",
          "data": {
            "text/plain": [
              "numpy.ndarray"
            ]
          },
          "metadata": {},
          "execution_count": 9
        }
      ]
    },
    {
      "cell_type": "code",
      "source": [
        "index = range(len(aVal))\n",
        "plt.plot(index, aVal)\n",
        "\n",
        "plt.xlim(0, 20)\n",
        "plt.ylim(np.min(aVal) -1, np.max(aVal) + 1)\n",
        "plt.show()"
      ],
      "metadata": {
        "id": "00kmsBX8R2sF"
      },
      "execution_count": null,
      "outputs": []
    },
    {
      "cell_type": "code",
      "source": [
        "type(index)"
      ],
      "metadata": {
        "colab": {
          "base_uri": "https://localhost:8080/"
        },
        "id": "VTb3EqIrR2uz",
        "outputId": "be8f1a2c-4310-426a-9a68-0c9a0b0f318d"
      },
      "execution_count": 11,
      "outputs": [
        {
          "output_type": "execute_result",
          "data": {
            "text/plain": [
              "range"
            ]
          },
          "metadata": {},
          "execution_count": 11
        }
      ]
    },
    {
      "cell_type": "code",
      "source": [
        "plt.figure(figsize=(7,4))\n",
        "plt.plot(aVal.cumsum(), 'b', lw= 1.5)\n",
        "plt.plot(aVal.cumsum(), 'ro')\n",
        "plt.xlabel('index')\n",
        "plt.ylabel('aVal')\n",
        "plt.title('Line Plot')\n",
        "plt.show()"
      ],
      "metadata": {
        "id": "GjM8snR0R2xk"
      },
      "execution_count": null,
      "outputs": []
    },
    {
      "cell_type": "code",
      "source": [
        "value = np.random.standard_normal((30, 2))\n",
        "value"
      ],
      "metadata": {
        "id": "SYFbPNbSR20k"
      },
      "execution_count": null,
      "outputs": []
    },
    {
      "cell_type": "code",
      "source": [
        "value[0]"
      ],
      "metadata": {
        "colab": {
          "base_uri": "https://localhost:8080/"
        },
        "id": "R56oePG0R23M",
        "outputId": "87299517-e4b3-4cd2-cbfa-58405b6d6184"
      },
      "execution_count": 14,
      "outputs": [
        {
          "output_type": "execute_result",
          "data": {
            "text/plain": [
              "array([0.50772401, 0.22436396])"
            ]
          },
          "metadata": {},
          "execution_count": 14
        }
      ]
    },
    {
      "cell_type": "code",
      "source": [
        "plt.figure(figsize=(10,4))\n",
        "plt.plot(value[:,0], lw= 1.5)\n",
        "plt.plot(value[:,1], lw= 1.5)\n",
        "plt.plot(value, 'ro')\n",
        "plt.grid(True)\n",
        "\n",
        "plt.xlabel('index')\n",
        "plt.ylabel('value')\n",
        "plt.title('Line Plot')"
      ],
      "metadata": {
        "id": "g7yru27PR25q"
      },
      "execution_count": null,
      "outputs": []
    },
    {
      "cell_type": "code",
      "source": [
        "plt.figure(figsize=(10,5))\n",
        "plt.subplot(211)\n",
        "plt.plot(value[:,0], lw = 1.5, label = '1st')\n",
        "plt.plot(value[:,0], 'ro')\n",
        "plt.grid(True)\n",
        "plt.legend(loc = 0)\n",
        "plt.ylabel(\"value\")\n",
        "plt.title('Line Plot 3')\n",
        "plt.subplot(212)\n",
        "plt.plot(value[:,1], 'g', lw = 1.5, label = '2nd')\n",
        "plt.grid(True)\n",
        "plt.legend(loc=0)\n",
        "plt.axis('tight')\n",
        "plt.ylabel('value')"
      ],
      "metadata": {
        "id": "YnY1RToNR29D"
      },
      "execution_count": null,
      "outputs": []
    },
    {
      "cell_type": "code",
      "source": [
        "plt.figure(figsize=(13,5))\n",
        "plt.subplot(231)\n",
        "plt.plot(value[:,0], lw= 1.5, label = '1st')\n",
        "plt.plot(value[:,0], 'co')\n",
        "plt.grid(True)\n",
        "plt.legend(loc=0)\n",
        "plt.ylabel('value')\n",
        "plt.title('Line Plot 3')\n",
        "plt.subplot(232)\n",
        "plt.plot(value[:,0], 'g-.', lw=1.5, label='1st')\n",
        "plt.grid(True)\n",
        "plt.legend(loc=0)\n",
        "plt.axis('tight')\n",
        "plt.ylabel('value')\n",
        "plt.subplot(233)\n",
        "plt.plot(value[:,0], 'g', lw=1.5, label='1st')\n",
        "plt.plot(value[:,0], 'bD')\n",
        "plt.grid(True)\n",
        "plt.legend(loc=0)\n",
        "plt.axis('tight')\n",
        "plt.ylabel('value')\n",
        "plt.subplot(234)\n",
        "plt.plot(value[:,1], '*', lw=1.5, label='2nd')\n",
        "plt.grid(True)\n",
        "plt.legend(loc=0)\n",
        "plt.axis('tight')\n",
        "plt.ylabel('value')\n",
        "plt.subplot(235)\n",
        "plt.plot(value[:,1], 'b', lw=1.5, label='2nd')\n",
        "plt.plot(value[:,1], 'ms')\n",
        "plt.grid(True)\n",
        "plt.legend(loc=0)\n",
        "plt.axis('tight')\n",
        "plt.ylabel('value')\n",
        "plt.subplot(236)\n",
        "plt.plot(value[:,1], 'r--', lw=1.5, label='2nd')\n",
        "plt.grid(True)\n",
        "plt.legend(loc=0)\n",
        "plt.axis('tight')\n",
        "plt.ylabel('value')"
      ],
      "metadata": {
        "id": "87z09-wUR2_5"
      },
      "execution_count": null,
      "outputs": []
    },
    {
      "cell_type": "code",
      "source": [
        "x = ['1월', '2월', '3월', '4월', '5월']\n",
        "y = [7, 10, 17, 20, 23]\n",
        "\n",
        "plt.bar(x,y)\n",
        "plt.show()"
      ],
      "metadata": {
        "id": "GH6a3eZhR3Cn"
      },
      "execution_count": null,
      "outputs": []
    },
    {
      "cell_type": "code",
      "source": [
        "x = ['1월', '2월', '3월', '4월', '5월']\n",
        "y = [7, 10, 17, 20, 23]\n",
        "\n",
        "plt.barh(x,y)\n",
        "plt.show()"
      ],
      "metadata": {
        "id": "B0cBuRRXR3F5"
      },
      "execution_count": null,
      "outputs": []
    },
    {
      "cell_type": "code",
      "source": [
        "x = ['1월', '2월', '3월', '4월', '5월']\n",
        "y = [7, 10, 17, 20, 23]\n",
        "\n",
        "plt.bar(x,y, color=\"orange\", width = 0.5, edgecolor = 'black', hatch = '/')\n",
        "plt.title('월별 평균 온도', fontsize=15)\n",
        "plt.ylabel('온도(도)')\n",
        "plt.grid(linestyle = ':', axis = 'y')\n",
        "plt.show()"
      ],
      "metadata": {
        "id": "HZB6quq8R3I4"
      },
      "execution_count": null,
      "outputs": []
    },
    {
      "cell_type": "code",
      "source": [
        "import pandas as pd\n",
        "\n",
        "df = pd.read_csv('scores.csv', encoding='cp949')\n",
        "df"
      ],
      "metadata": {
        "id": "HHmkq87VR3MI"
      },
      "execution_count": null,
      "outputs": []
    },
    {
      "cell_type": "code",
      "source": [
        "x = df['이름']\n",
        "y_kor = df['국어']\n",
        "\n",
        "plt.bar(x, y_kor)\n",
        "plt.show()"
      ],
      "metadata": {
        "id": "maJTz0icR3Ov"
      },
      "execution_count": null,
      "outputs": []
    },
    {
      "cell_type": "code",
      "source": [
        "x = df['이름']\n",
        "y_kor = df['국어']\n",
        "y_eng = df['영어']\n",
        "\n",
        "plt.bar(x, y_kor, width = -0.4, align = 'edge', label = '국어')\n",
        "plt.bar(x, y_eng, width = 0.4, align = 'edge', label = '영어')\n",
        "plt.title('국어/영어 점수 비교', fontsize = 15)\n",
        "plt.ylabel('점수')\n",
        "\n",
        "plt.legend() \n",
        "plt.show()"
      ],
      "metadata": {
        "id": "L89cRff6R3Ro"
      },
      "execution_count": null,
      "outputs": []
    },
    {
      "cell_type": "code",
      "source": [
        "value = np.random.standard_normal((500,2))\n",
        "plt.plot(value[:,0], value[:,1], 'ro')\n",
        "plt.grid(False)\n",
        "plt.xlabel('value 1')\n",
        "plt.ylabel('value 2')\n",
        "plt.title('Scatter Plot 1')"
      ],
      "metadata": {
        "id": "a_3cCbJBR3Un"
      },
      "execution_count": null,
      "outputs": []
    },
    {
      "cell_type": "code",
      "source": [
        "plt.figure(figsize=(7,5))\n",
        "plt.scatter(value[:,0], value[:,1], marker='o')\n",
        "plt.grid(True)\n",
        "plt.xlabel('value 1')\n",
        "plt.ylabel('value 2')\n",
        "plt.title('Scatter Plot 2')"
      ],
      "metadata": {
        "id": "vYXl_mz7R3X8"
      },
      "execution_count": null,
      "outputs": []
    },
    {
      "cell_type": "code",
      "source": [
        "color = np.random.randint(0,10,len(value))\n",
        "\n",
        "plt.figure(figsize=(10,5))\n",
        "plt.scatter(value[:,0], value[:,1], c=color, marker = 'o')\n",
        "plt.colorbar()\n",
        "plt.xlabel('value 1')\n",
        "plt.ylabel('value 2')\n",
        "plt.title('Scatter Plot 3')"
      ],
      "metadata": {
        "id": "bbj7eX_1R6Be"
      },
      "execution_count": null,
      "outputs": []
    },
    {
      "cell_type": "code",
      "source": [
        "import seaborn as sns\n",
        "df = sns.load_dataset('tips')\n",
        "df"
      ],
      "metadata": {
        "id": "d438NHtxR6Eh"
      },
      "execution_count": null,
      "outputs": []
    },
    {
      "cell_type": "code",
      "source": [
        "df.head()"
      ],
      "metadata": {
        "id": "mUvt0QvmR6HK"
      },
      "execution_count": null,
      "outputs": []
    },
    {
      "cell_type": "code",
      "source": [
        "df.describe()"
      ],
      "metadata": {
        "id": "z5FUZzmbR6Ju"
      },
      "execution_count": null,
      "outputs": []
    },
    {
      "cell_type": "code",
      "source": [
        "df.info()"
      ],
      "metadata": {
        "id": "pcI0KAc8R6MP"
      },
      "execution_count": null,
      "outputs": []
    },
    {
      "cell_type": "code",
      "source": [
        "x = df['total_bill']\n",
        "y = df['tip']\n",
        "\n",
        "sns.scatterplot(x,y)"
      ],
      "metadata": {
        "id": "aJw8n_WxR6Py"
      },
      "execution_count": null,
      "outputs": []
    },
    {
      "cell_type": "code",
      "source": [
        "sns.boxplot(x=\"day\", y = \"tip\", hue=\"sex\", data=df, palette=\"muted\")"
      ],
      "metadata": {
        "id": "kp2So4V-TPKO"
      },
      "execution_count": null,
      "outputs": []
    }
  ]
}