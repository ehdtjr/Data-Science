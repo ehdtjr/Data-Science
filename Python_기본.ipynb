{
  "nbformat": 4,
  "nbformat_minor": 0,
  "metadata": {
    "colab": {
      "provenance": [],
      "collapsed_sections": [],
      "authorship_tag": "ABX9TyP37rsCsZOR6hDYOzhAI4Mk",
      "include_colab_link": true
    },
    "kernelspec": {
      "name": "python3",
      "display_name": "Python 3"
    },
    "language_info": {
      "name": "python"
    }
  },
  "cells": [
    {
      "cell_type": "markdown",
      "metadata": {
        "id": "view-in-github",
        "colab_type": "text"
      },
      "source": [
        "<a href=\"https://colab.research.google.com/github/ehdtjr/Data-Science/blob/main/Python_%EA%B8%B0%EB%B3%B8.ipynb\" target=\"_parent\"><img src=\"https://colab.research.google.com/assets/colab-badge.svg\" alt=\"Open In Colab\"/></a>"
      ]
    },
    {
      "cell_type": "code",
      "execution_count": 20,
      "metadata": {
        "id": "dnSL5Q0_ycD-"
      },
      "outputs": [],
      "source": [
        "strVal = 'data science'               \n",
        "nVal = 12345                          \n",
        "fVal = 1.2                            \n",
        "lVal = ['data', 'science']            \n",
        "dVal = {'lecture' : 'data science'}   \n",
        "bVal = True   "
      ]
    },
    {
      "cell_type": "code",
      "source": [
        "# 기본적인 주석"
      ],
      "metadata": {
        "id": "mfZtWgGu9XIs"
      },
      "execution_count": 21,
      "outputs": []
    },
    {
      "cell_type": "code",
      "source": [
        "'''\n",
        "이런 형태의 주석도 많이 사용\n",
        "'''"
      ],
      "metadata": {
        "id": "SHmft60h9XUU"
      },
      "execution_count": null,
      "outputs": []
    },
    {
      "cell_type": "code",
      "source": [
        "strVal"
      ],
      "metadata": {
        "id": "FeZA8upT9XdX"
      },
      "execution_count": null,
      "outputs": []
    },
    {
      "cell_type": "code",
      "source": [
        "nVal"
      ],
      "metadata": {
        "id": "Yp3sbBSq9XgQ"
      },
      "execution_count": null,
      "outputs": []
    },
    {
      "cell_type": "code",
      "source": [
        "fVal"
      ],
      "metadata": {
        "id": "jw7JWYJH9XjD"
      },
      "execution_count": null,
      "outputs": []
    },
    {
      "cell_type": "code",
      "source": [
        "IVal"
      ],
      "metadata": {
        "id": "upPUna1w9Xll"
      },
      "execution_count": null,
      "outputs": []
    },
    {
      "cell_type": "code",
      "source": [
        "dVal"
      ],
      "metadata": {
        "id": "88cql19g9Xog"
      },
      "execution_count": null,
      "outputs": []
    },
    {
      "cell_type": "code",
      "source": [
        "bVal"
      ],
      "metadata": {
        "id": "WiIyYiGF9XrE"
      },
      "execution_count": null,
      "outputs": []
    },
    {
      "cell_type": "code",
      "source": [
        "print('strVal : ', strVal)\n",
        "print('nVal : ', nVal)\n",
        "print('fVal : ', fVal)\n",
        "print('lVal : ', lVal)\n",
        "print('dVal : ', dVal)\n",
        "print('bVal : ', bVal)"
      ],
      "metadata": {
        "id": "7Us_YFNJ9Xtq"
      },
      "execution_count": null,
      "outputs": []
    },
    {
      "cell_type": "code",
      "source": [
        "print('strVal : ', type(strVal))\n",
        "print('nVal : ', type(nVal))\n",
        "print('fVal : ', type(fVal))\n",
        "print('lVal : ', type(lVal))\n",
        "print('dVal : ', type(dVal))\n",
        "print('bVal : ', type(bVal))"
      ],
      "metadata": {
        "id": "tOzqDp0O9Xwh"
      },
      "execution_count": null,
      "outputs": []
    },
    {
      "cell_type": "code",
      "source": [
        "nVal = 16                        \n",
        "fVal = 3.14 "
      ],
      "metadata": {
        "id": "tAqL9W3F9XzN"
      },
      "execution_count": 5,
      "outputs": []
    },
    {
      "cell_type": "code",
      "source": [
        "print('10진수 표현 : ', nVal)       \n",
        "print('2진수 표현 : ', bin(nVal))  \n",
        "print('8진수 표현 : ', oct(nVal))  \n",
        "print('16진수 표현 : ', hex(nVal))  "
      ],
      "metadata": {
        "id": "ch_wisX39X1d"
      },
      "execution_count": null,
      "outputs": []
    },
    {
      "cell_type": "code",
      "source": [
        "btVal = True                           \n",
        "bfVal = False"
      ],
      "metadata": {
        "id": "OTPwpvzF9X4g"
      },
      "execution_count": 7,
      "outputs": []
    },
    {
      "cell_type": "code",
      "source": [
        "btVal = TRUE                          \n",
        "bfVal = FALSE"
      ],
      "metadata": {
        "id": "Ro-NA8ov9X7e"
      },
      "execution_count": null,
      "outputs": []
    },
    {
      "cell_type": "code",
      "source": [
        "btVal = true                          \n",
        "bfVal = false "
      ],
      "metadata": {
        "id": "CQ35MCVW9X98"
      },
      "execution_count": null,
      "outputs": []
    },
    {
      "cell_type": "code",
      "source": [
        "10 == 11"
      ],
      "metadata": {
        "colab": {
          "base_uri": "https://localhost:8080/"
        },
        "id": "QDefsVuD9YA8",
        "outputId": "36aa8cd0-1a1b-4105-8ab8-eb5fac0e0594"
      },
      "execution_count": 8,
      "outputs": [
        {
          "output_type": "execute_result",
          "data": {
            "text/plain": [
              "False"
            ]
          },
          "metadata": {},
          "execution_count": 8
        }
      ]
    },
    {
      "cell_type": "code",
      "source": [
        "10 != 11"
      ],
      "metadata": {
        "id": "azbzHtcM9YEa"
      },
      "execution_count": null,
      "outputs": []
    },
    {
      "cell_type": "code",
      "source": [
        "10 >= 11"
      ],
      "metadata": {
        "id": "zbHesuuby2Ie"
      },
      "execution_count": null,
      "outputs": []
    },
    {
      "cell_type": "code",
      "source": [
        "10 <= 11"
      ],
      "metadata": {
        "id": "tq_a0Mj6-wQ-"
      },
      "execution_count": null,
      "outputs": []
    },
    {
      "cell_type": "code",
      "source": [
        "10 > 11"
      ],
      "metadata": {
        "id": "d-poeSgN-wcQ"
      },
      "execution_count": null,
      "outputs": []
    },
    {
      "cell_type": "code",
      "source": [
        "10 < 11"
      ],
      "metadata": {
        "id": "WHZVNXab-wex"
      },
      "execution_count": null,
      "outputs": []
    },
    {
      "cell_type": "code",
      "source": [
        "nBig = 100\n",
        "nSmall = 10"
      ],
      "metadata": {
        "id": "3dedEceD-whb"
      },
      "execution_count": null,
      "outputs": []
    },
    {
      "cell_type": "code",
      "source": [
        "print(nBig == nSmall)\n",
        "print(nBig != nSmall)\n",
        "print(nBig >= nSmall)\n",
        "print(nBig <= nSmall)\n",
        "print(nBig > nSmall)\n",
        "print(nBig < nSmall)"
      ],
      "metadata": {
        "id": "8e_Uugub-wj-"
      },
      "execution_count": null,
      "outputs": []
    },
    {
      "cell_type": "code",
      "source": [
        "print(nBig =< nSmall)"
      ],
      "metadata": {
        "id": "56xDRKBh-wmx"
      },
      "execution_count": null,
      "outputs": []
    },
    {
      "cell_type": "code",
      "source": [
        "print(nBig => nSmall)"
      ],
      "metadata": {
        "id": "aRoeCHjM-wpV"
      },
      "execution_count": null,
      "outputs": []
    },
    {
      "cell_type": "code",
      "source": [
        "strData = 'data'              \n",
        "strSci = \"Science\""
      ],
      "metadata": {
        "id": "bsDRM3M6-wsE"
      },
      "execution_count": null,
      "outputs": []
    },
    {
      "cell_type": "code",
      "source": [
        "strLecture = strData + strSci"
      ],
      "metadata": {
        "id": "1m4TkguJ-wua"
      },
      "execution_count": null,
      "outputs": []
    },
    {
      "cell_type": "code",
      "source": [
        "strLecture"
      ],
      "metadata": {
        "id": "7s9tSU6F-wxQ"
      },
      "execution_count": null,
      "outputs": []
    },
    {
      "cell_type": "code",
      "source": [
        "strLecture = strData +\" \"+ strSci\n",
        "strLecture"
      ],
      "metadata": {
        "id": "UR8hP1Wl-wzr"
      },
      "execution_count": null,
      "outputs": []
    },
    {
      "cell_type": "code",
      "source": [
        "strLecture.split() "
      ],
      "metadata": {
        "id": "dTGMNB_R-w2l"
      },
      "execution_count": null,
      "outputs": []
    },
    {
      "cell_type": "code",
      "source": [
        "lSeperate = strLecture.split()"
      ],
      "metadata": {
        "id": "7yQ5foDl-w5m"
      },
      "execution_count": null,
      "outputs": []
    },
    {
      "cell_type": "code",
      "source": [
        "type(lSeperate)"
      ],
      "metadata": {
        "id": "Q0UcpQAF-w8d"
      },
      "execution_count": null,
      "outputs": []
    },
    {
      "cell_type": "code",
      "source": [
        "strHello = \"안녕하세요. 반갑습니다.\""
      ],
      "metadata": {
        "id": "3wDBSYL9-w-_"
      },
      "execution_count": 11,
      "outputs": []
    },
    {
      "cell_type": "code",
      "source": [
        "strHello.find(\"반갑\")"
      ],
      "metadata": {
        "id": "M0R_KqI1-xCH"
      },
      "execution_count": null,
      "outputs": []
    },
    {
      "cell_type": "code",
      "source": [
        "strHello.find(\"hello\")"
      ],
      "metadata": {
        "id": "XhU2D57y-xFU"
      },
      "execution_count": null,
      "outputs": []
    },
    {
      "cell_type": "code",
      "source": [
        "\"반갑\" in strHello"
      ],
      "metadata": {
        "id": "wj1RG6vE-xH1"
      },
      "execution_count": null,
      "outputs": []
    },
    {
      "cell_type": "code",
      "source": [
        "strHello.replace('.', '?')"
      ],
      "metadata": {
        "id": "9lk4U1Dc-xLJ"
      },
      "execution_count": null,
      "outputs": []
    },
    {
      "cell_type": "code",
      "source": [
        "strHello.replace('.', '?')              \n",
        "strHello.replace(\"하세요\", \"하셔유\")"
      ],
      "metadata": {
        "id": "EbxE06IO-xNf"
      },
      "execution_count": null,
      "outputs": []
    },
    {
      "cell_type": "code",
      "source": [
        "strHello "
      ],
      "metadata": {
        "id": "TexyAh1L-xRC"
      },
      "execution_count": null,
      "outputs": []
    },
    {
      "cell_type": "code",
      "source": [
        "strNewHello = strHello.replace('.', '?')                    \n",
        "strNewHello = strNewHello.replace(\"하세요\", \"하셔유\")       \n",
        "strNewHello"
      ],
      "metadata": {
        "id": "NSGq7KAt-xTz"
      },
      "execution_count": null,
      "outputs": []
    },
    {
      "cell_type": "code",
      "source": [
        "strHello.strip('반갑습니다.')"
      ],
      "metadata": {
        "id": "Yd9__lVp-xXF"
      },
      "execution_count": null,
      "outputs": []
    },
    {
      "cell_type": "code",
      "source": [
        "strHello"
      ],
      "metadata": {
        "id": "Tl_PFNtYAltX"
      },
      "execution_count": null,
      "outputs": []
    },
    {
      "cell_type": "code",
      "source": [
        "lnData = [1,2,3,4,5]   \n",
        "print(lnData)\n",
        "print('type : ', type(lnData))"
      ],
      "metadata": {
        "id": "v0ggqt07AnO9"
      },
      "execution_count": null,
      "outputs": []
    },
    {
      "cell_type": "code",
      "source": [
        "print(lnData[0])    \n",
        "print(lnData[3])"
      ],
      "metadata": {
        "id": "mAGANnreAuUE"
      },
      "execution_count": null,
      "outputs": []
    },
    {
      "cell_type": "code",
      "source": [
        "lnData[0] = lnData[4]   \n",
        "print(lnData)"
      ],
      "metadata": {
        "id": "vodsbamyA1en"
      },
      "execution_count": null,
      "outputs": []
    },
    {
      "cell_type": "code",
      "source": [
        "print(lnData[2:4])"
      ],
      "metadata": {
        "id": "xepfa5tqA1iy"
      },
      "execution_count": null,
      "outputs": []
    },
    {
      "cell_type": "code",
      "source": [
        "lnData = [1,2,3,4,5]\n",
        "lstrData=['a', 'b', 'c']\n",
        "\n",
        "lnData + lstrData"
      ],
      "metadata": {
        "id": "oi-KopE-A1lp"
      },
      "execution_count": null,
      "outputs": []
    },
    {
      "cell_type": "code",
      "source": [
        "lnData.append(10)   \n",
        "lnData"
      ],
      "metadata": {
        "id": "vD9DuBNDA1n_"
      },
      "execution_count": null,
      "outputs": []
    },
    {
      "cell_type": "code",
      "source": [
        "lnData.insert(0, 'python') \n",
        "lnData "
      ],
      "metadata": {
        "id": "cr3o7APwA1qZ"
      },
      "execution_count": null,
      "outputs": []
    },
    {
      "cell_type": "code",
      "source": [
        "lnData.remove('python')     \n",
        "lnData"
      ],
      "metadata": {
        "id": "uE11APGbA1sz"
      },
      "execution_count": null,
      "outputs": []
    },
    {
      "cell_type": "code",
      "source": [
        "del lnData[5]             \n",
        "lnData"
      ],
      "metadata": {
        "id": "Ke1C5WsHA1vk"
      },
      "execution_count": null,
      "outputs": []
    },
    {
      "cell_type": "code",
      "source": [
        "lnData"
      ],
      "metadata": {
        "id": "sL_CQk79A1x5"
      },
      "execution_count": null,
      "outputs": []
    },
    {
      "cell_type": "code",
      "source": [
        "lnData.pop(0)    \n",
        "lnData"
      ],
      "metadata": {
        "id": "Eu3vjGjfA10p"
      },
      "execution_count": null,
      "outputs": []
    },
    {
      "cell_type": "code",
      "source": [
        "lnData.pop()    \n",
        "lnData"
      ],
      "metadata": {
        "id": "NWwlEup2A13n"
      },
      "execution_count": null,
      "outputs": []
    },
    {
      "cell_type": "code",
      "source": [
        "lnData.clear()  \n",
        "lnData"
      ],
      "metadata": {
        "id": "gQocpDFOA152"
      },
      "execution_count": null,
      "outputs": []
    },
    {
      "cell_type": "code",
      "source": [
        "tVal = (\"사과\", \"딸기\", \"바나나\", \"토마토\", \"키위\")\n",
        "\n",
        "print(tVal)\n",
        "print(type(tVal))"
      ],
      "metadata": {
        "id": "c-KtpOEeA18n"
      },
      "execution_count": null,
      "outputs": []
    },
    {
      "cell_type": "code",
      "source": [
        "tVal[0] = \"포도\""
      ],
      "metadata": {
        "id": "JLfD1mooA1_h"
      },
      "execution_count": null,
      "outputs": []
    },
    {
      "cell_type": "code",
      "source": [
        "tData = ( 1, 2, 3, 1, 2, 3, 4, 5, 1, 2, 7)\n",
        "tData.count(1)"
      ],
      "metadata": {
        "id": "lkPs3ovzA2CI"
      },
      "execution_count": null,
      "outputs": []
    },
    {
      "cell_type": "code",
      "source": [
        "len(tVal)"
      ],
      "metadata": {
        "id": "gH6QI_yqA2Fg"
      },
      "execution_count": null,
      "outputs": []
    },
    {
      "cell_type": "code",
      "source": [
        "len(tData)"
      ],
      "metadata": {
        "id": "wYGqBl68A2I2"
      },
      "execution_count": null,
      "outputs": []
    },
    {
      "cell_type": "code",
      "source": [
        "print(tData[2:5])"
      ],
      "metadata": {
        "id": "hu9yc1rNA2Lb"
      },
      "execution_count": null,
      "outputs": []
    },
    {
      "cell_type": "code",
      "source": [
        "tTuple = tVal+ tData\n",
        "print(tTuple)"
      ],
      "metadata": {
        "id": "a1QwXwNIA2OD"
      },
      "execution_count": null,
      "outputs": []
    },
    {
      "cell_type": "code",
      "source": [
        "tData * 2"
      ],
      "metadata": {
        "id": "DicYVuTXA2RZ"
      },
      "execution_count": null,
      "outputs": []
    },
    {
      "cell_type": "code",
      "source": [
        "tData"
      ],
      "metadata": {
        "id": "Zkb6OYFEA2ZO"
      },
      "execution_count": null,
      "outputs": []
    },
    {
      "cell_type": "code",
      "source": [
        "tData2 = tData * 2\n",
        "print(tData2)"
      ],
      "metadata": {
        "id": "-B-TNAjfA2cP"
      },
      "execution_count": null,
      "outputs": []
    },
    {
      "cell_type": "code",
      "source": [
        "print(\"tVal memory = \", hex(id(tVal)))\n",
        "tVal = tVal * 2\n",
        "print(\"tVal memory = \", hex(id(tVal)))\n",
        "print(tVal)"
      ],
      "metadata": {
        "id": "BNYwRtRwA2fn"
      },
      "execution_count": null,
      "outputs": []
    },
    {
      "cell_type": "code",
      "source": [
        "print(\"tVal memory = \", hex(id(tVal)))\n",
        "tVal = tVal + tVal\n",
        "print(\"tVal memory = \", hex(id(tVal)))\n",
        "print(tVal)"
      ],
      "metadata": {
        "id": "UwPfSaYLAuft"
      },
      "execution_count": null,
      "outputs": []
    },
    {
      "cell_type": "code",
      "source": [
        "sVal = {1, 2, 3, 4, 5}\n",
        "print(sVal)\n",
        "print(type(sVal))"
      ],
      "metadata": {
        "id": "xsNTk25yB3nN"
      },
      "execution_count": null,
      "outputs": []
    },
    {
      "cell_type": "code",
      "source": [
        "sVal[1:2]"
      ],
      "metadata": {
        "id": "HIwJicNeB3z_"
      },
      "execution_count": null,
      "outputs": []
    },
    {
      "cell_type": "code",
      "source": [
        "sVal.add(100)\n",
        "print(sVal)"
      ],
      "metadata": {
        "id": "vuh-qw1qB32v"
      },
      "execution_count": null,
      "outputs": []
    },
    {
      "cell_type": "code",
      "source": [
        "sVal.update([200, 300])\n",
        "print(sVal)"
      ],
      "metadata": {
        "id": "k5nZxgjAB36I"
      },
      "execution_count": null,
      "outputs": []
    },
    {
      "cell_type": "code",
      "source": [
        "sVal.remove(200)\n",
        "print(sVal)"
      ],
      "metadata": {
        "id": "IyOncEtjB39T"
      },
      "execution_count": null,
      "outputs": []
    },
    {
      "cell_type": "code",
      "source": [
        "sVal.clear()\n",
        "print(sVal)"
      ],
      "metadata": {
        "id": "mL_crXUzB4B2"
      },
      "execution_count": null,
      "outputs": []
    },
    {
      "cell_type": "code",
      "source": [
        "sVal = {100, 200, 300, 400, 500}\n",
        "sData = {\"a\", \"b\", \"c\", \"c\", 100, 300}\n",
        "print(sVal)\n",
        "print(sData)"
      ],
      "metadata": {
        "id": "VBDr9v9VB4FD"
      },
      "execution_count": null,
      "outputs": []
    },
    {
      "cell_type": "code",
      "source": [
        "sVal.intersection(sData)"
      ],
      "metadata": {
        "id": "0JRgWIdGB4H6"
      },
      "execution_count": null,
      "outputs": []
    },
    {
      "cell_type": "code",
      "source": [
        "sVal.difference(sData)"
      ],
      "metadata": {
        "id": "IxLn4LX9B4LO"
      },
      "execution_count": null,
      "outputs": []
    },
    {
      "cell_type": "code",
      "source": [
        "sVal - sData"
      ],
      "metadata": {
        "id": "V93BC6SuB4UK"
      },
      "execution_count": null,
      "outputs": []
    },
    {
      "cell_type": "code",
      "source": [
        "sVal.union(sData)"
      ],
      "metadata": {
        "id": "PRIV1jYSB4ee"
      },
      "execution_count": null,
      "outputs": []
    },
    {
      "cell_type": "code",
      "source": [
        "sVal + sData"
      ],
      "metadata": {
        "id": "vS1Kac_BB4h4"
      },
      "execution_count": null,
      "outputs": []
    },
    {
      "cell_type": "code",
      "source": [
        "sVal.symmetric_difference(sData)"
      ],
      "metadata": {
        "id": "tERQqoazB4pw"
      },
      "execution_count": null,
      "outputs": []
    },
    {
      "cell_type": "code",
      "source": [
        "dVal = {\n",
        "    'name' : '이컴공',\n",
        "    'email' : 'computer@hoseo.edu',\n",
        "    'address' : '충남 아산시'\n",
        "}\n",
        "print(dVal)\n",
        "print(type(dVal))"
      ],
      "metadata": {
        "id": "YNw2nDMYB41A"
      },
      "execution_count": null,
      "outputs": []
    },
    {
      "cell_type": "code",
      "source": [
        "dData = {\n",
        "    \"사과\" : 300, \n",
        "    \"포도\" : 200, \n",
        "    \"배\" : 500,\n",
        "    \"키위\" : 100\n",
        "}"
      ],
      "metadata": {
        "id": "8JVxD7l7CNAG"
      },
      "execution_count": null,
      "outputs": []
    },
    {
      "cell_type": "code",
      "source": [
        "print(dData[\"배\"])"
      ],
      "metadata": {
        "id": "j2tCKOhPCNC-"
      },
      "execution_count": null,
      "outputs": []
    },
    {
      "cell_type": "code",
      "source": [
        "dData.get(\"배\")"
      ],
      "metadata": {
        "id": "ASocq_88CNGI"
      },
      "execution_count": null,
      "outputs": []
    },
    {
      "cell_type": "code",
      "source": [
        "dData[\"딸기\"] = 100\n",
        "print(dData)"
      ],
      "metadata": {
        "id": "DP5iBkGyCNIX"
      },
      "execution_count": null,
      "outputs": []
    },
    {
      "cell_type": "code",
      "source": [
        "dData.pop(\"사과\")"
      ],
      "metadata": {
        "id": "MDyu2GM5CNLd"
      },
      "execution_count": null,
      "outputs": []
    },
    {
      "cell_type": "code",
      "source": [
        "dData"
      ],
      "metadata": {
        "id": "HIisXBedCNOQ"
      },
      "execution_count": null,
      "outputs": []
    },
    {
      "cell_type": "code",
      "source": [
        "dData.pop()"
      ],
      "metadata": {
        "id": "xoAlVW1GCNQx"
      },
      "execution_count": null,
      "outputs": []
    },
    {
      "cell_type": "code",
      "source": [
        "sorted(dData)"
      ],
      "metadata": {
        "id": "kvWXV-AYCNTu"
      },
      "execution_count": null,
      "outputs": []
    },
    {
      "cell_type": "code",
      "source": [
        "sorted(dData.values())"
      ],
      "metadata": {
        "id": "LAcez-keCNWm"
      },
      "execution_count": null,
      "outputs": []
    },
    {
      "cell_type": "code",
      "source": [
        "dData"
      ],
      "metadata": {
        "id": "W4k8f-lCCNZQ"
      },
      "execution_count": null,
      "outputs": []
    },
    {
      "cell_type": "code",
      "source": [
        "def f(x):  \n",
        "  return x + 10"
      ],
      "metadata": {
        "id": "t-4qx7W0CNdU"
      },
      "execution_count": 18,
      "outputs": []
    },
    {
      "cell_type": "code",
      "source": [
        "f(2)"
      ],
      "metadata": {
        "colab": {
          "base_uri": "https://localhost:8080/"
        },
        "id": "UVUQgKGvCNgp",
        "outputId": "eba9cda5-20ed-4224-d938-ced6ef450244"
      },
      "execution_count": 19,
      "outputs": [
        {
          "output_type": "execute_result",
          "data": {
            "text/plain": [
              "12"
            ]
          },
          "metadata": {},
          "execution_count": 19
        }
      ]
    }
  ]
}