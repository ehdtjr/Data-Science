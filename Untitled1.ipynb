{
  "nbformat": 4,
  "nbformat_minor": 0,
  "metadata": {
    "colab": {
      "provenance": [],
      "authorship_tag": "ABX9TyP2xXYbCmLAGrG7gq+WtYWa",
      "include_colab_link": true
    },
    "kernelspec": {
      "name": "python3",
      "display_name": "Python 3"
    },
    "language_info": {
      "name": "python"
    }
  },
  "cells": [
    {
      "cell_type": "markdown",
      "metadata": {
        "id": "view-in-github",
        "colab_type": "text"
      },
      "source": [
        "<a href=\"https://colab.research.google.com/github/ehdtjr/Data-Science/blob/main/Untitled1.ipynb\" target=\"_parent\"><img src=\"https://colab.research.google.com/assets/colab-badge.svg\" alt=\"Open In Colab\"/></a>"
      ]
    },
    {
      "cell_type": "code",
      "execution_count": 1,
      "metadata": {
        "id": "dnSL5Q0_ycD-"
      },
      "outputs": [],
      "source": [
        "strVal = 'data science'               \n",
        "nVal = 12345                          \n",
        "fVal = 1.2                            \n",
        "lVal = ['data', 'science']            \n",
        "dVal = {'lecture' : 'data science'}   \n",
        "bVal = True"
      ]
    },
    {
      "cell_type": "code",
      "source": [],
      "metadata": {
        "id": "zbHesuuby2Ie"
      },
      "execution_count": null,
      "outputs": []
    }
  ]
}