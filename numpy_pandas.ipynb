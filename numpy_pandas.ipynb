{
  "nbformat": 4,
  "nbformat_minor": 0,
  "metadata": {
    "colab": {
      "provenance": [],
      "authorship_tag": "ABX9TyNc6U/pv7Oe8D1fYDf56xD4",
      "include_colab_link": true
    },
    "kernelspec": {
      "name": "python3",
      "display_name": "Python 3"
    },
    "language_info": {
      "name": "python"
    }
  },
  "cells": [
    {
      "cell_type": "markdown",
      "metadata": {
        "id": "view-in-github",
        "colab_type": "text"
      },
      "source": [
        "<a href=\"https://colab.research.google.com/github/ehdtjr/Data-Science/blob/main/numpy_pandas.ipynb\" target=\"_parent\"><img src=\"https://colab.research.google.com/assets/colab-badge.svg\" alt=\"Open In Colab\"/></a>"
      ]
    },
    {
      "cell_type": "code",
      "execution_count": null,
      "metadata": {
        "id": "WIPKcJeOF3Gd"
      },
      "outputs": [],
      "source": [
        "strText = input(\"아무 문장이나 입력하세요 : \")\n",
        "print(strText)"
      ]
    },
    {
      "cell_type": "code",
      "source": [
        "flVal = [1.0, 2.0, 3.14, 4.2, 5.1]"
      ],
      "metadata": {
        "id": "0YwfNGYEF3hL"
      },
      "execution_count": null,
      "outputs": []
    },
    {
      "cell_type": "code",
      "source": [
        "arVal = [flVal, flVal, flVal]\n",
        "arVal"
      ],
      "metadata": {
        "id": "azS2vMaSF3j1"
      },
      "execution_count": null,
      "outputs": []
    },
    {
      "cell_type": "code",
      "source": [
        "arVal[0]"
      ],
      "metadata": {
        "id": "MUKfSf5yF3mF"
      },
      "execution_count": null,
      "outputs": []
    },
    {
      "cell_type": "code",
      "source": [
        "arVal[1]"
      ],
      "metadata": {
        "id": "rgUpYa6mF3og"
      },
      "execution_count": null,
      "outputs": []
    },
    {
      "cell_type": "code",
      "source": [
        "arVal[1][2]"
      ],
      "metadata": {
        "id": "r1d2Sm2sF3rH"
      },
      "execution_count": null,
      "outputs": []
    },
    {
      "cell_type": "code",
      "source": [
        "arVal[0] = 'python'\n",
        "arVal"
      ],
      "metadata": {
        "id": "i9W2o14SF3uC"
      },
      "execution_count": null,
      "outputs": []
    },
    {
      "cell_type": "code",
      "source": [
        "arVal[0][2]"
      ],
      "metadata": {
        "id": "uN1IrRTZF3wz"
      },
      "execution_count": null,
      "outputs": []
    },
    {
      "cell_type": "code",
      "source": [
        "arVal[0] = 'python programming'\n",
        "arVal"
      ],
      "metadata": {
        "id": "a4CPH2h7F3zV"
      },
      "execution_count": null,
      "outputs": []
    },
    {
      "cell_type": "code",
      "source": [
        "import numpy as np\n",
        "arData = np.array([1.0, 2.0, 3.14, 4.2, 5.1])\n",
        "arData"
      ],
      "metadata": {
        "id": "jRnCgzzVF32V"
      },
      "execution_count": null,
      "outputs": []
    },
    {
      "cell_type": "code",
      "source": [
        "arData.sum()"
      ],
      "metadata": {
        "id": "1KZtY0c8F34z"
      },
      "execution_count": null,
      "outputs": []
    },
    {
      "cell_type": "code",
      "source": [
        "arVal.sum()"
      ],
      "metadata": {
        "id": "9p3SyFbVF37z"
      },
      "execution_count": null,
      "outputs": []
    },
    {
      "cell_type": "code",
      "source": [
        "print(type(arVal))\n",
        "print(type(arData))"
      ],
      "metadata": {
        "id": "-DpdSPbtF3-g"
      },
      "execution_count": null,
      "outputs": []
    },
    {
      "cell_type": "code",
      "source": [
        "arData.std()"
      ],
      "metadata": {
        "id": "XiJlWdg3F4BR"
      },
      "execution_count": null,
      "outputs": []
    },
    {
      "cell_type": "code",
      "source": [
        "arData.cumsum()"
      ],
      "metadata": {
        "id": "gRTKZ8qSF4EB"
      },
      "execution_count": null,
      "outputs": []
    },
    {
      "cell_type": "code",
      "source": [
        "arData * 2"
      ],
      "metadata": {
        "id": "IdYgmVZnF4Gv"
      },
      "execution_count": null,
      "outputs": []
    },
    {
      "cell_type": "code",
      "source": [
        "arData ** 2"
      ],
      "metadata": {
        "id": "Y602fth7F4Ji"
      },
      "execution_count": null,
      "outputs": []
    },
    {
      "cell_type": "code",
      "source": [
        "np.sqrt(arData)"
      ],
      "metadata": {
        "id": "SPzbmiGRF4Mu"
      },
      "execution_count": null,
      "outputs": []
    },
    {
      "cell_type": "code",
      "source": [
        "arVal = np.array([arData, arData ** 2])\n",
        "arVal"
      ],
      "metadata": {
        "id": "Ra92dO9BF4PX"
      },
      "execution_count": null,
      "outputs": []
    },
    {
      "cell_type": "code",
      "source": [
        "arVal.sum(axis=0)"
      ],
      "metadata": {
        "id": "cU0py8ELF4R4"
      },
      "execution_count": null,
      "outputs": []
    },
    {
      "cell_type": "code",
      "source": [
        "arVal.sum(axis=1)"
      ],
      "metadata": {
        "id": "laGNpS7eF4UX"
      },
      "execution_count": null,
      "outputs": []
    },
    {
      "cell_type": "code",
      "source": [
        "np.array([[0,0,0],[0,0,0]])"
      ],
      "metadata": {
        "id": "1P4WPdaEF4Xu"
      },
      "execution_count": null,
      "outputs": []
    },
    {
      "cell_type": "code",
      "source": [
        "arZero = np.zeros((2,3), dtype = 'i') \n",
        "arZero"
      ],
      "metadata": {
        "id": "ntUHuKr3OcLA"
      },
      "execution_count": null,
      "outputs": []
    },
    {
      "cell_type": "code",
      "source": [
        "import pandas as pd\n",
        "\n",
        "pandas_series = pd.Series([30, 20, 10], index=['국어', '영어', '수학'])\n",
        "print(type(pandas_series))\n",
        "pandas_series"
      ],
      "metadata": {
        "id": "MxKSpgFrOcOL"
      },
      "execution_count": null,
      "outputs": []
    },
    {
      "cell_type": "code",
      "source": [
        "pandas_series[1:]"
      ],
      "metadata": {
        "id": "APh_H1pIOcQ8"
      },
      "execution_count": null,
      "outputs": []
    },
    {
      "cell_type": "code",
      "source": [
        "pandas_series[0]"
      ],
      "metadata": {
        "id": "o6RHlGgxOcTs"
      },
      "execution_count": null,
      "outputs": []
    },
    {
      "cell_type": "code",
      "source": [
        "pandas_series[0][1]"
      ],
      "metadata": {
        "id": "-9H955NiOcV4"
      },
      "execution_count": null,
      "outputs": []
    },
    {
      "cell_type": "code",
      "source": [
        "df = pd.DataFrame([30,20,10], columns=['score'], index=['국어', '영어', '수학'])\n",
        "df"
      ],
      "metadata": {
        "id": "7oiX41fIOcY_"
      },
      "execution_count": null,
      "outputs": []
    },
    {
      "cell_type": "code",
      "source": [
        "df.index"
      ],
      "metadata": {
        "id": "N9G59jSLOccP"
      },
      "execution_count": null,
      "outputs": []
    },
    {
      "cell_type": "code",
      "source": [
        "df.columns"
      ],
      "metadata": {
        "id": "9Qf2q9coOce-"
      },
      "execution_count": null,
      "outputs": []
    },
    {
      "cell_type": "code",
      "source": [
        "df.loc['국어']"
      ],
      "metadata": {
        "id": "7shyp2VlOch0"
      },
      "execution_count": null,
      "outputs": []
    },
    {
      "cell_type": "code",
      "source": [
        "df.sum()"
      ],
      "metadata": {
        "id": "MrZTJKfYOckb"
      },
      "execution_count": null,
      "outputs": []
    },
    {
      "cell_type": "code",
      "source": [
        "df.score ** 2"
      ],
      "metadata": {
        "id": "j2zh2agrOcnN"
      },
      "execution_count": null,
      "outputs": []
    },
    {
      "cell_type": "code",
      "source": [
        "df['score2'] = (50, 50, 50)\n",
        "df"
      ],
      "metadata": {
        "id": "RKa8N-brOcqR"
      },
      "execution_count": null,
      "outputs": []
    },
    {
      "cell_type": "code",
      "source": [
        "df['score2'] = pd.DataFrame([90,90,90], index=['국어', '영어', '수학'])\n",
        "df"
      ],
      "metadata": {
        "id": "yPNpfY7vOcs3"
      },
      "execution_count": null,
      "outputs": []
    },
    {
      "cell_type": "code",
      "source": [
        "del df['score']"
      ],
      "metadata": {
        "id": "m6-yYW0TOcvs"
      },
      "execution_count": null,
      "outputs": []
    },
    {
      "cell_type": "code",
      "source": [
        "df['score2'] = (90, 90, 90, 100)"
      ],
      "metadata": {
        "id": "6d--Zv0jOcy7"
      },
      "execution_count": null,
      "outputs": []
    },
    {
      "cell_type": "code",
      "source": [
        "df['score2'] = pd.DataFrame([90, 90, 90, 100], index=['국어', '영어', '수학', '윤리'])\n",
        "df"
      ],
      "metadata": {
        "id": "weIrvXx8Oc1e"
      },
      "execution_count": null,
      "outputs": []
    },
    {
      "cell_type": "code",
      "source": [
        "df1 = pd.DataFrame([1, 2, 3], columns = ['A'])\n",
        "df2 = pd.DataFrame([10, 11, 12, 13], columns = ['B'])\n",
        "\n",
        "df = df1.join(df2, how='outer')\n",
        "df"
      ],
      "metadata": {
        "id": "yojai6M9Oc4Z"
      },
      "execution_count": null,
      "outputs": []
    },
    {
      "cell_type": "code",
      "source": [
        "df_inner = df1.join(df2, how='inner')\n",
        "df_inner"
      ],
      "metadata": {
        "id": "f6KLCD8DOc7s"
      },
      "execution_count": null,
      "outputs": []
    },
    {
      "cell_type": "code",
      "source": [
        "df = pd.DataFrame(np.random.randn(5,5))\n",
        "df.columns = ['A', 'B', 'C', 'D', 'E']\n",
        "\n",
        "df"
      ],
      "metadata": {
        "id": "ctjoRrh0Oc-g"
      },
      "execution_count": null,
      "outputs": []
    },
    {
      "cell_type": "code",
      "source": [
        "df.max()"
      ],
      "metadata": {
        "id": "fyJ90WC1OdB4"
      },
      "execution_count": null,
      "outputs": []
    },
    {
      "cell_type": "code",
      "source": [
        "df.min()"
      ],
      "metadata": {
        "id": "MQ85qGfcO9pV"
      },
      "execution_count": null,
      "outputs": []
    },
    {
      "cell_type": "code",
      "source": [
        "df.mean()"
      ],
      "metadata": {
        "id": "BQadrLsWO9sB"
      },
      "execution_count": null,
      "outputs": []
    },
    {
      "cell_type": "code",
      "source": [
        "df.std()"
      ],
      "metadata": {
        "id": "FdBWdn_6O9u0"
      },
      "execution_count": null,
      "outputs": []
    },
    {
      "cell_type": "code",
      "source": [
        "df.cumsum()"
      ],
      "metadata": {
        "id": "-uTgaIM5O9xl"
      },
      "execution_count": null,
      "outputs": []
    },
    {
      "cell_type": "code",
      "source": [
        "df.describe()"
      ],
      "metadata": {
        "id": "6hkTTgMTO90W"
      },
      "execution_count": null,
      "outputs": []
    },
    {
      "cell_type": "code",
      "source": [
        "df['division'] = ['X', 'Y', 'X', 'Y', 'Z']\n",
        "df"
      ],
      "metadata": {
        "id": "qf9yJzydO929"
      },
      "execution_count": null,
      "outputs": []
    },
    {
      "cell_type": "code",
      "source": [
        "df.groupby(['division']).mean()"
      ],
      "metadata": {
        "id": "XT57DRcNO950"
      },
      "execution_count": null,
      "outputs": []
    }
  ]
}